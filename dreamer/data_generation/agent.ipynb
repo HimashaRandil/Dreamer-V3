{
 "cells": [
  {
   "cell_type": "code",
   "execution_count": 2,
   "metadata": {},
   "outputs": [
    {
     "data": {
      "text/plain": [
       "'e:\\\\github_clone\\\\Dreamer-V3'"
      ]
     },
     "execution_count": 2,
     "metadata": {},
     "output_type": "execute_result"
    }
   ],
   "source": [
    "import os\n",
    "os.chdir(\"../\")\n",
    "os.getcwd()"
   ]
  },
  {
   "cell_type": "code",
   "execution_count": 3,
   "metadata": {},
   "outputs": [],
   "source": [
    "import os\n",
    "import numpy as np\n",
    "import pandas as pd\n",
    "import grid2op\n",
    "from lightsim2grid import LightSimBackend\n",
    "from grid2op.Reward import L2RPNSandBoxScore\n",
    "from dreamer.Utils.converter import ActionConverter\n",
    "from dreamer.data_generation.generate import DataGeneration\n",
    "from grid2op.Exceptions import Grid2OpException\n",
    "from dreamer.Utils.customReward import LossReward, MarginReward\n",
    "from dreamer.Utils.utils import Config\n",
    "\n",
    "\n",
    "import time\n",
    "import random\n",
    "import grid2op\n",
    "import numpy as np\n",
    "import pandas as pd"
   ]
  },
  {
   "cell_type": "code",
   "execution_count": 4,
   "metadata": {},
   "outputs": [
    {
     "name": "stderr",
     "output_type": "stream",
     "text": [
      "c:\\ProgramData\\Anaconda3\\envs\\MARL2023paper_env\\Lib\\site-packages\\grid2op\\Backend\\backend.py:2062: UserWarning: The backend implementation you are using is probably too old to take advantage of the new feature added in grid2op 1.10.0: the possibility to have more than 2 busbars per substations (or not). To silence this warning, you can modify the `load_grid` implementation of your backend and either call:\n",
      "- self.can_handle_more_than_2_busbar if the current implementation    can handle more than 2 busbsars OR\n",
      "- self.cannot_handle_more_than_2_busbar if not.\n",
      "And of course, ideally, if the current implementation of your backend cannot handle more than 2 busbars per substation, then change it :-)\n",
      "Your backend will behave as if it did not support it.\n",
      "  warnings.warn(\"The backend implementation you are using is probably too old to take advantage of the \"\n"
     ]
    },
    {
     "name": "stdout",
     "output_type": "stream",
     "text": [
      "Episode ID : 0\n"
     ]
    },
    {
     "ename": "KeyboardInterrupt",
     "evalue": "",
     "output_type": "error",
     "traceback": [
      "\u001b[1;31m---------------------------------------------------------------------------\u001b[0m",
      "\u001b[1;31mKeyboardInterrupt\u001b[0m                         Traceback (most recent call last)",
      "Cell \u001b[1;32mIn[4], line 3\u001b[0m\n\u001b[0;32m      1\u001b[0m config \u001b[38;5;241m=\u001b[39m Config\u001b[38;5;241m.\u001b[39mfrom_yaml(\u001b[38;5;124m\"\u001b[39m\u001b[38;5;124mconfig.yml\u001b[39m\u001b[38;5;124m\"\u001b[39m)\n\u001b[0;32m      2\u001b[0m dg \u001b[38;5;241m=\u001b[39m DataGeneration(config\u001b[38;5;241m=\u001b[39mconfig)\n\u001b[1;32m----> 3\u001b[0m dg\u001b[38;5;241m.\u001b[39mtopology_data_generation()\n",
      "File \u001b[1;32me:\\github_clone\\Dreamer-V3\\dreamer\\data_generation\\generate.py:42\u001b[0m, in \u001b[0;36mtopology_data_generation\u001b[1;34m(self)\u001b[0m\n\u001b[0;32m     40\u001b[0m obs \u001b[38;5;241m=\u001b[39m \u001b[38;5;28mself\u001b[39m\u001b[38;5;241m.\u001b[39menv\u001b[38;5;241m.\u001b[39mreset()\n\u001b[0;32m     41\u001b[0m reward \u001b[38;5;241m=\u001b[39m \u001b[38;5;28mself\u001b[39m\u001b[38;5;241m.\u001b[39menv\u001b[38;5;241m.\u001b[39mreward_range[\u001b[38;5;241m0\u001b[39m]\n\u001b[1;32m---> 42\u001b[0m done \u001b[38;5;241m=\u001b[39m \u001b[38;5;28;01mFalse\u001b[39;00m\n\u001b[0;32m     45\u001b[0m \u001b[38;5;28;01mfor\u001b[39;00m i \u001b[38;5;129;01min\u001b[39;00m \u001b[38;5;28mrange\u001b[39m (\u001b[38;5;28mself\u001b[39m\u001b[38;5;241m.\u001b[39menv\u001b[38;5;241m.\u001b[39mmax_episode_duration()):\n\u001b[0;32m     47\u001b[0m     action \u001b[38;5;241m=\u001b[39m \u001b[38;5;28mself\u001b[39m\u001b[38;5;241m.\u001b[39magent\u001b[38;5;241m.\u001b[39mact(obs, reward, done) \u001b[38;5;66;03m#self.agent.act() #\u001b[39;00m\n",
      "File \u001b[1;32mc:\\ProgramData\\Anaconda3\\envs\\MARL2023paper_env\\Lib\\site-packages\\grid2op\\Agent\\greedyAgent.py:67\u001b[0m, in \u001b[0;36mGreedyAgent.act\u001b[1;34m(self, observation, reward, done)\u001b[0m\n\u001b[0;32m     58\u001b[0m \u001b[38;5;28mself\u001b[39m\u001b[38;5;241m.\u001b[39mresulting_rewards \u001b[38;5;241m=\u001b[39m np\u001b[38;5;241m.\u001b[39mfull(\n\u001b[0;32m     59\u001b[0m     shape\u001b[38;5;241m=\u001b[39m\u001b[38;5;28mlen\u001b[39m(\u001b[38;5;28mself\u001b[39m\u001b[38;5;241m.\u001b[39mtested_action), fill_value\u001b[38;5;241m=\u001b[39mnp\u001b[38;5;241m.\u001b[39mNaN, dtype\u001b[38;5;241m=\u001b[39mdt_float\n\u001b[0;32m     60\u001b[0m )\n\u001b[0;32m     61\u001b[0m \u001b[38;5;28;01mfor\u001b[39;00m i, action \u001b[38;5;129;01min\u001b[39;00m \u001b[38;5;28menumerate\u001b[39m(\u001b[38;5;28mself\u001b[39m\u001b[38;5;241m.\u001b[39mtested_action):\n\u001b[0;32m     62\u001b[0m     (\n\u001b[0;32m     63\u001b[0m         simul_obs,\n\u001b[0;32m     64\u001b[0m         simul_reward,\n\u001b[0;32m     65\u001b[0m         simul_has_error,\n\u001b[0;32m     66\u001b[0m         simul_info,\n\u001b[1;32m---> 67\u001b[0m     ) \u001b[38;5;241m=\u001b[39m observation\u001b[38;5;241m.\u001b[39msimulate(action)\n\u001b[0;32m     68\u001b[0m     \u001b[38;5;28mself\u001b[39m\u001b[38;5;241m.\u001b[39mresulting_rewards[i] \u001b[38;5;241m=\u001b[39m simul_reward\n\u001b[0;32m     69\u001b[0m reward_idx \u001b[38;5;241m=\u001b[39m \u001b[38;5;28mint\u001b[39m(\n\u001b[0;32m     70\u001b[0m     np\u001b[38;5;241m.\u001b[39margmax(\u001b[38;5;28mself\u001b[39m\u001b[38;5;241m.\u001b[39mresulting_rewards)\n\u001b[0;32m     71\u001b[0m )  \u001b[38;5;66;03m# rewards.index(max(rewards))\u001b[39;00m\n",
      "File \u001b[1;32mc:\\ProgramData\\Anaconda3\\envs\\MARL2023paper_env\\Lib\\site-packages\\grid2op\\Observation\\baseObservation.py:3375\u001b[0m, in \u001b[0;36mBaseObservation.simulate\u001b[1;34m(self, action, time_step)\u001b[0m\n\u001b[0;32m   3373\u001b[0m timestamp \u001b[38;5;241m=\u001b[39m \u001b[38;5;28mself\u001b[39m\u001b[38;5;241m.\u001b[39m_forecasted_grid_act[time_step][\u001b[38;5;124m\"\u001b[39m\u001b[38;5;124mtimestamp\u001b[39m\u001b[38;5;124m\"\u001b[39m]\n\u001b[0;32m   3374\u001b[0m inj_action \u001b[38;5;241m=\u001b[39m \u001b[38;5;28mself\u001b[39m\u001b[38;5;241m.\u001b[39m_forecasted_grid_act[time_step][\u001b[38;5;124m\"\u001b[39m\u001b[38;5;124minj_action\u001b[39m\u001b[38;5;124m\"\u001b[39m]\n\u001b[1;32m-> 3375\u001b[0m \u001b[38;5;28mself\u001b[39m\u001b[38;5;241m.\u001b[39m_obs_env\u001b[38;5;241m.\u001b[39minit(\n\u001b[0;32m   3376\u001b[0m     inj_action,\n\u001b[0;32m   3377\u001b[0m     time_stamp\u001b[38;5;241m=\u001b[39mtimestamp,\n\u001b[0;32m   3378\u001b[0m     obs\u001b[38;5;241m=\u001b[39m\u001b[38;5;28mself\u001b[39m,\n\u001b[0;32m   3379\u001b[0m     time_step\u001b[38;5;241m=\u001b[39mtime_step,\n\u001b[0;32m   3380\u001b[0m )\n\u001b[0;32m   3382\u001b[0m sim_obs, \u001b[38;5;241m*\u001b[39mrest \u001b[38;5;241m=\u001b[39m \u001b[38;5;28mself\u001b[39m\u001b[38;5;241m.\u001b[39m_obs_env\u001b[38;5;241m.\u001b[39msimulate(action)\n\u001b[0;32m   3383\u001b[0m sim_obs \u001b[38;5;241m=\u001b[39m copy\u001b[38;5;241m.\u001b[39mdeepcopy(sim_obs)\n",
      "File \u001b[1;32mc:\\ProgramData\\Anaconda3\\envs\\MARL2023paper_env\\Lib\\site-packages\\grid2op\\Environment\\_obsEnv.py:394\u001b[0m, in \u001b[0;36m_ObsEnv.init\u001b[1;34m(self, new_state_action, time_stamp, obs, time_step)\u001b[0m\n\u001b[0;32m    390\u001b[0m     topo_vect \u001b[38;5;241m=\u001b[39m \u001b[38;5;28mself\u001b[39m\u001b[38;5;241m.\u001b[39m_topo_vect\n\u001b[0;32m    392\u001b[0m \u001b[38;5;66;03m# TODO set the shunts here\u001b[39;00m\n\u001b[0;32m    393\u001b[0m \u001b[38;5;66;03m# update the action that set the grid to the real value\u001b[39;00m\n\u001b[1;32m--> 394\u001b[0m \u001b[38;5;28mself\u001b[39m\u001b[38;5;241m.\u001b[39m_backend_action_set \u001b[38;5;241m+\u001b[39m\u001b[38;5;241m=\u001b[39m \u001b[38;5;28mself\u001b[39m\u001b[38;5;241m.\u001b[39m_helper_action_env(\n\u001b[0;32m    395\u001b[0m     {\n\u001b[0;32m    396\u001b[0m         \u001b[38;5;124m\"\u001b[39m\u001b[38;5;124mset_line_status\u001b[39m\u001b[38;5;124m\"\u001b[39m: set_status,\n\u001b[0;32m    397\u001b[0m         \u001b[38;5;124m\"\u001b[39m\u001b[38;5;124mset_bus\u001b[39m\u001b[38;5;124m\"\u001b[39m: topo_vect,\n\u001b[0;32m    398\u001b[0m         \u001b[38;5;124m\"\u001b[39m\u001b[38;5;124minjection\u001b[39m\u001b[38;5;124m\"\u001b[39m: {\n\u001b[0;32m    399\u001b[0m             \u001b[38;5;124m\"\u001b[39m\u001b[38;5;124mprod_p\u001b[39m\u001b[38;5;124m\"\u001b[39m: obs\u001b[38;5;241m.\u001b[39mgen_p,\n\u001b[0;32m    400\u001b[0m             \u001b[38;5;124m\"\u001b[39m\u001b[38;5;124mprod_v\u001b[39m\u001b[38;5;124m\"\u001b[39m: obs\u001b[38;5;241m.\u001b[39mgen_v,\n\u001b[0;32m    401\u001b[0m             \u001b[38;5;124m\"\u001b[39m\u001b[38;5;124mload_p\u001b[39m\u001b[38;5;124m\"\u001b[39m: obs\u001b[38;5;241m.\u001b[39mload_p,\n\u001b[0;32m    402\u001b[0m             \u001b[38;5;124m\"\u001b[39m\u001b[38;5;124mload_q\u001b[39m\u001b[38;5;124m\"\u001b[39m: obs\u001b[38;5;241m.\u001b[39mload_q,\n\u001b[0;32m    403\u001b[0m         },\n\u001b[0;32m    404\u001b[0m     }\n\u001b[0;32m    405\u001b[0m )\n\u001b[0;32m    406\u001b[0m \u001b[38;5;28mself\u001b[39m\u001b[38;5;241m.\u001b[39m_backend_action_set \u001b[38;5;241m+\u001b[39m\u001b[38;5;241m=\u001b[39m new_state_action\n\u001b[0;32m    407\u001b[0m \u001b[38;5;66;03m# for storage unit\u001b[39;00m\n",
      "File \u001b[1;32mc:\\ProgramData\\Anaconda3\\envs\\MARL2023paper_env\\Lib\\site-packages\\grid2op\\Action\\actionSpace.py:137\u001b[0m, in \u001b[0;36mActionSpace.__call__\u001b[1;34m(self, dict_, check_legal, env, _names_chronics_to_backend)\u001b[0m\n\u001b[0;32m    134\u001b[0m res : BaseAction \u001b[38;5;241m=\u001b[39m \u001b[38;5;28mself\u001b[39m\u001b[38;5;241m.\u001b[39mactionClass(_names_chronics_to_backend)\n\u001b[0;32m    136\u001b[0m \u001b[38;5;66;03m# update the action\u001b[39;00m\n\u001b[1;32m--> 137\u001b[0m res\u001b[38;5;241m.\u001b[39mupdate(dict_)\n\u001b[0;32m    139\u001b[0m \u001b[38;5;28;01mif\u001b[39;00m check_legal:\n\u001b[0;32m    140\u001b[0m     is_legal, reason \u001b[38;5;241m=\u001b[39m \u001b[38;5;28mself\u001b[39m\u001b[38;5;241m.\u001b[39m_is_legal(res, env)\n",
      "File \u001b[1;32mc:\\ProgramData\\Anaconda3\\envs\\MARL2023paper_env\\Lib\\site-packages\\grid2op\\Action\\baseAction.py:2375\u001b[0m, in \u001b[0;36mBaseAction.update\u001b[1;34m(self, dict_)\u001b[0m\n\u001b[0;32m   2373\u001b[0m \u001b[38;5;28mself\u001b[39m\u001b[38;5;241m.\u001b[39m_digest_storage(dict_)  \u001b[38;5;66;03m# ADDED for battery\u001b[39;00m\n\u001b[0;32m   2374\u001b[0m \u001b[38;5;28mself\u001b[39m\u001b[38;5;241m.\u001b[39m_digest_curtailment(dict_)  \u001b[38;5;66;03m# ADDED for curtailment\u001b[39;00m\n\u001b[1;32m-> 2375\u001b[0m \u001b[38;5;28mself\u001b[39m\u001b[38;5;241m.\u001b[39m_digest_setbus(dict_)\n\u001b[0;32m   2376\u001b[0m \u001b[38;5;28mself\u001b[39m\u001b[38;5;241m.\u001b[39m_digest_change_bus(dict_)\n\u001b[0;32m   2377\u001b[0m \u001b[38;5;28mself\u001b[39m\u001b[38;5;241m.\u001b[39m_digest_set_status(dict_)\n",
      "File \u001b[1;32mc:\\ProgramData\\Anaconda3\\envs\\MARL2023paper_env\\Lib\\site-packages\\grid2op\\Action\\baseAction.py:1979\u001b[0m, in \u001b[0;36mBaseAction._digest_setbus\u001b[1;34m(self, dict_)\u001b[0m\n\u001b[0;32m   1977\u001b[0m         \u001b[38;5;28;01mraise\u001b[39;00m AmbiguousAction(msg)\n\u001b[0;32m   1978\u001b[0m \u001b[38;5;28;01melse\u001b[39;00m:\n\u001b[1;32m-> 1979\u001b[0m     \u001b[38;5;28mself\u001b[39m\u001b[38;5;241m.\u001b[39mset_bus \u001b[38;5;241m=\u001b[39m dict_[\u001b[38;5;124m\"\u001b[39m\u001b[38;5;124mset_bus\u001b[39m\u001b[38;5;124m\"\u001b[39m]\n",
      "File \u001b[1;32mc:\\ProgramData\\Anaconda3\\envs\\MARL2023paper_env\\Lib\\site-packages\\grid2op\\Action\\baseAction.py:4572\u001b[0m, in \u001b[0;36mBaseAction.set_bus\u001b[1;34m(self, values)\u001b[0m\n\u001b[0;32m   4565\u001b[0m orig_ \u001b[38;5;241m=\u001b[39m \u001b[38;5;28mself\u001b[39m\u001b[38;5;241m.\u001b[39mset_bus\n\u001b[0;32m   4566\u001b[0m \u001b[38;5;28;01mtry\u001b[39;00m:\n\u001b[0;32m   4567\u001b[0m     \u001b[38;5;28mself\u001b[39m\u001b[38;5;241m.\u001b[39m_aux_affect_object_int(\n\u001b[0;32m   4568\u001b[0m         values,\n\u001b[0;32m   4569\u001b[0m         \u001b[38;5;124m\"\u001b[39m\u001b[38;5;124m\"\u001b[39m,\n\u001b[0;32m   4570\u001b[0m         \u001b[38;5;28mcls\u001b[39m\u001b[38;5;241m.\u001b[39mdim_topo,\n\u001b[0;32m   4571\u001b[0m         \u001b[38;5;28;01mNone\u001b[39;00m,\n\u001b[1;32m-> 4572\u001b[0m         np\u001b[38;5;241m.\u001b[39marange(\u001b[38;5;28mcls\u001b[39m\u001b[38;5;241m.\u001b[39mdim_topo),\n\u001b[0;32m   4573\u001b[0m         \u001b[38;5;28mself\u001b[39m\u001b[38;5;241m.\u001b[39m_set_topo_vect,\n\u001b[0;32m   4574\u001b[0m         max_val\u001b[38;5;241m=\u001b[39m\u001b[38;5;28mcls\u001b[39m\u001b[38;5;241m.\u001b[39mn_busbar_per_sub\n\u001b[0;32m   4575\u001b[0m     )\n\u001b[0;32m   4576\u001b[0m     \u001b[38;5;28mself\u001b[39m\u001b[38;5;241m.\u001b[39m_modif_set_bus \u001b[38;5;241m=\u001b[39m \u001b[38;5;28;01mTrue\u001b[39;00m\n\u001b[0;32m   4577\u001b[0m \u001b[38;5;28;01mexcept\u001b[39;00m \u001b[38;5;167;01mException\u001b[39;00m \u001b[38;5;28;01mas\u001b[39;00m exc_:\n",
      "\u001b[1;31mKeyboardInterrupt\u001b[0m: "
     ]
    }
   ],
   "source": [
    "config = Config.from_yaml(\"config.yml\")\n",
    "dg = DataGeneration(config=config)\n",
    "dg.topology_data_generation()"
   ]
  },
  {
   "cell_type": "code",
   "execution_count": null,
   "metadata": {},
   "outputs": [],
   "source": []
  }
 ],
 "metadata": {
  "kernelspec": {
   "display_name": "MARL2023paper_env",
   "language": "python",
   "name": "python3"
  },
  "language_info": {
   "codemirror_mode": {
    "name": "ipython",
    "version": 3
   },
   "file_extension": ".py",
   "mimetype": "text/x-python",
   "name": "python",
   "nbconvert_exporter": "python",
   "pygments_lexer": "ipython3",
   "version": "3.11.9"
  }
 },
 "nbformat": 4,
 "nbformat_minor": 2
}
