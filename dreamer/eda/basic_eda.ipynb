{
 "cells": [
  {
   "cell_type": "code",
   "execution_count": null,
   "metadata": {
    "vscode": {
     "languageId": "plaintext"
    }
   },
   "outputs": [],
   "source": [
    "def one_hot_encode(actions, num_actions):\n",
    "    \"\"\"\n",
    "    Convert an array of actions into one-hot encoding.\n",
    "    Args:\n",
    "    - actions (np.array): Array of integer actions.\n",
    "    - num_actions (int): Total number of possible actions (size of action space).\n",
    "    Returns:\n",
    "    - np.array: One-hot encoded actions, shape (num_samples, num_actions).\n",
    "    \"\"\"\n",
    "    actions = np.array(actions)\n",
    "    one_hot_actions = np.zeros((len(actions), num_actions), dtype=np.float32)\n",
    "    one_hot_actions[np.arange(len(actions)), actions] = 1\n",
    "    return np.array(one_hot_actions)"
   ]
  },
  {
   "cell_type": "code",
   "execution_count": null,
   "metadata": {
    "vscode": {
     "languageId": "plaintext"
    }
   },
   "outputs": [],
   "source": [
    "import yaml\n",
    "class Config:\n",
    "    def __init__(self, dictionary):\n",
    "        for key, value in dictionary.items():\n",
    "            if isinstance(value, dict):\n",
    "                # Recursively convert dictionaries to Config objects\n",
    "                setattr(self, key, Config(value))\n",
    "            else:\n",
    "                setattr(self, key, value)\n",
    "    @classmethod\n",
    "    def from_yaml(cls, file_path):\n",
    "        with open(file_path, 'r') as file:\n",
    "            data = yaml.safe_load(file)\n",
    "        return cls(data)"
   ]
  }
 ],
 "metadata": {
  "language_info": {
   "name": "python"
  }
 },
 "nbformat": 4,
 "nbformat_minor": 2
}
