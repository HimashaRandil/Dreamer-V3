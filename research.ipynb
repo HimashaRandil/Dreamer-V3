{
 "cells": [
  {
   "cell_type": "code",
   "execution_count": 1,
   "metadata": {},
   "outputs": [],
   "source": [
    "import grid2op\n",
    "import torch\n",
    "import warnings\n",
    "from dreamer.modules.encoder import Encoder\n",
    "from dreamer.modules.decoder import Decoder\n",
    "from dreamer.modules.recurrentModel import RecurrentModel\n",
    "from dreamer.modules.rewardModel import RewardPredictor\n",
    "warnings.filterwarnings('ignore')"
   ]
  },
  {
   "cell_type": "code",
   "execution_count": 2,
   "metadata": {},
   "outputs": [],
   "source": [
    "env = grid2op.make(\"l2rpn_case14_sandbox\")"
   ]
  },
  {
   "cell_type": "code",
   "execution_count": 3,
   "metadata": {},
   "outputs": [],
   "source": [
    "env.set_id(0)\n",
    "obs = env.reset()\n",
    "env.fast_forward_chronics(1094)"
   ]
  },
  {
   "cell_type": "code",
   "execution_count": 5,
   "metadata": {},
   "outputs": [
    {
     "data": {
      "text/plain": [
       "(datetime.datetime(2019, 1, 9, 19, 15),\n",
       " {'injection': {'load_p': array([ 23.1, 110.5,  53.2,   8.7,  12.2,  34. ,  10.8,   4.2,   6.8,\n",
       "           16.1,  17.6], dtype=float32),\n",
       "   'load_q': array([16.4, 78.9, 37.4,  6. ,  8.7, 23.5,  7.6,  2.9,  5. , 11.3, 12.4],\n",
       "         dtype=float32),\n",
       "   'prod_p': array([100.2,  95.7,  11.2,   0. ,   0. ,  98.1], dtype=float32)}},\n",
       " array([-1, -1, -1, -1, -1, -1, -1, -1, -1, -1, -1, -1, -1, -1, -1, -1, -1,\n",
       "        -1, -1, -1]),\n",
       " array([0, 0, 0, 0, 0, 0, 0, 0, 0, 0, 0, 0, 0, 0, 0, 0, 0, 0, 0, 0]),\n",
       " array([-1, -1, -1, -1, -1, -1, -1, -1, -1, -1, -1, -1, -1, -1, -1, -1, -1,\n",
       "        -1, -1, -1]),\n",
       " array([142.1, 142.1,  22. ,  22. ,  13.2, 142.1], dtype=float32))"
      ]
     },
     "execution_count": 5,
     "metadata": {},
     "output_type": "execute_result"
    }
   ],
   "source": [
    "env.chronics_handler."
   ]
  },
  {
   "cell_type": "code",
   "execution_count": 3,
   "metadata": {},
   "outputs": [
    {
     "data": {
      "text/plain": [
       "467"
      ]
     },
     "execution_count": 3,
     "metadata": {},
     "output_type": "execute_result"
    }
   ],
   "source": [
    "obs = env.reset()\n",
    "obs.size()"
   ]
  },
  {
   "cell_type": "code",
   "execution_count": 6,
   "metadata": {},
   "outputs": [
    {
     "name": "stdout",
     "output_type": "stream",
     "text": [
      "[ 2.0190000e+03  1.0000000e+00  6.0000000e+00  0.0000000e+00\n",
      "  0.0000000e+00  6.0000000e+00  8.1400002e+01  7.9300003e+01\n",
      "  5.3000002e+00  0.0000000e+00  0.0000000e+00  8.2246674e+01\n",
      "  1.9496038e+01  7.1340233e+01  2.4368923e+01  2.4368923e+01\n",
      "  2.4018070e+01 -1.7274660e+01  1.4210001e+02  1.4210001e+02\n",
      "  2.2000000e+01  2.2000000e+01  1.3200001e+01  1.4210001e+02\n",
      "  2.1900000e+01  8.5800003e+01  4.4299999e+01  6.9000001e+00\n",
      "  1.1900000e+01  2.8500000e+01  8.8000002e+00  3.5000000e+00\n",
      "  5.4000001e+00  1.2600000e+01  1.4400000e+01  1.5400000e+01\n",
      "  5.9700001e+01  3.0799999e+01  4.8000002e+00  8.3000002e+00\n",
      "  1.9400000e+01  6.0999999e+00  2.4000001e+00  3.9000001e+00\n",
      "  8.8000002e+00  1.0500000e+01  1.4210001e+02  1.4210001e+02\n",
      "  1.3866075e+02  1.3929695e+02  2.2000000e+01  2.1130220e+01\n",
      "  2.1129551e+01  2.1478817e+01  2.1571596e+01  2.1432823e+01\n",
      "  2.0750198e+01  4.2346096e+01  3.9900578e+01  2.3991766e+01\n",
      "  4.1828262e+01  3.5666172e+01  1.7225140e+01 -2.7542929e+01\n",
      "  8.1183472e+00  7.4602180e+00  1.7347816e+01  4.3849845e+00\n",
      "  8.2175179e+00 -4.4212246e+00  1.9712504e+00  6.4163899e+00\n",
      "  2.6171078e+01  1.4931423e+01  3.9526379e+01 -4.9969214e-15\n",
      " -2.6171078e+01 -1.6060501e+01 -1.2141596e+00 -7.4234338e+00\n",
      "  4.0774456e-01 -4.4919857e-01  7.7376227e+00 -2.1186779e+00\n",
      "  1.0543067e+01  5.6506634e+00  1.5188450e+01 -1.5994288e+00\n",
      "  3.6139119e+00 -7.7159214e+00  1.5654972e+00  7.3706942e+00\n",
      " -1.6119450e+01 -3.0833588e+00 -5.6308179e+00 -2.3178274e+01\n",
      " -4.4921541e+00  1.4210001e+02  1.4210001e+02  1.4210001e+02\n",
      "  1.4210001e+02  1.4210001e+02  1.4210001e+02  1.3866075e+02\n",
      "  2.2000000e+01  2.2000000e+01  2.2000000e+01  2.1130220e+01\n",
      "  2.1130220e+01  2.1129551e+01  2.1571596e+01  2.1432823e+01\n",
      "  1.3866075e+02  1.3866075e+02  1.3929695e+02  1.4861537e+01\n",
      "  2.1130220e+01  1.8401025e+02  1.6219051e+02  1.0203776e+02\n",
      "  1.6995570e+02  1.4492264e+02  7.6722275e+01  1.1502098e+02\n",
      "  3.4920593e+02  2.4560159e+02  6.0509528e+02  1.2753420e+02\n",
      "  2.4528467e+02  2.4299077e+02  6.7372948e+01  2.6324207e+02\n",
      "  1.2798145e+02  6.3482616e+01  1.6548074e+02  9.0044409e+02\n",
      "  7.2554138e+02 -4.1986198e+01 -3.9088322e+01 -2.3725140e+01\n",
      " -4.0866714e+01 -3.4981895e+01 -1.6992859e+01  2.7643835e+01\n",
      " -7.9793596e+00 -7.3712506e+00 -1.7057173e+01 -4.3787756e+00\n",
      " -8.1257477e+00  4.4793596e+00 -1.9592170e+00 -6.2742519e+00\n",
      " -2.6171078e+01 -1.4931423e+01 -3.9526379e+01  4.7489105e-15\n",
      "  2.6171078e+01  1.1560926e+01 -5.4758495e-01  3.9026122e+00\n",
      " -1.0090021e+00 -1.0585623e+00 -8.4695101e+00  2.4369648e+00\n",
      " -1.0252009e+01 -5.4654975e+00 -1.4616084e+01  1.6159215e+00\n",
      " -3.4187043e+00  7.8520093e+00 -1.5546099e+00 -7.0812955e+00\n",
      "  1.7991196e+01  4.2857671e+00  9.0556650e+00  2.4018070e+01\n",
      "  5.1870790e+00  1.4210001e+02  1.3929695e+02  1.4210001e+02\n",
      "  1.3866075e+02  1.3929695e+02  1.3866075e+02  1.3929695e+02\n",
      "  2.1478817e+01  2.1571596e+01  2.1432823e+01  2.1129551e+01\n",
      "  2.0750198e+01  2.1478817e+01  2.1432823e+01  2.0750198e+01\n",
      "  1.4861537e+01  2.1130220e+01  2.2000000e+01  1.3200001e+01\n",
      "  1.4861537e+01  1.7693805e+02  1.6202699e+02  9.7690315e+01\n",
      "  1.7021111e+02  1.4505737e+02  7.9055550e+01  1.1502098e+02\n",
      "  3.4920593e+02  2.4560159e+02  6.0509528e+02  1.2753420e+02\n",
      "  2.4528467e+02  2.4299077e+02  6.7372948e+01  2.6324207e+02\n",
      "  1.2337778e+03  4.2445111e+02  1.0641736e+03  1.0505181e+03\n",
      "  1.0364877e+03  3.4012985e-01  3.6042336e-01  2.7210069e-01\n",
      "  2.6722595e-01  8.2812935e-01  2.6920095e-01  3.4334621e-01\n",
      "  5.3151590e-01  4.9516451e-01  7.3167509e-01  2.8853893e-01\n",
      "  3.8265938e-01  2.8927472e-01  4.3187788e-01  3.9644888e-01\n",
      "  5.4460192e-01  5.3346735e-01  9.2447340e-01  4.5339581e-01\n",
      "  4.6154031e-01  1.0000000e+00  1.0000000e+00  1.0000000e+00\n",
      "  1.0000000e+00  1.0000000e+00  1.0000000e+00  1.0000000e+00\n",
      "  1.0000000e+00  1.0000000e+00  1.0000000e+00  1.0000000e+00\n",
      "  1.0000000e+00  1.0000000e+00  1.0000000e+00  1.0000000e+00\n",
      "  1.0000000e+00  1.0000000e+00  1.0000000e+00  1.0000000e+00\n",
      "  1.0000000e+00  0.0000000e+00  0.0000000e+00  0.0000000e+00\n",
      "  0.0000000e+00  0.0000000e+00  0.0000000e+00  0.0000000e+00\n",
      "  0.0000000e+00  0.0000000e+00  0.0000000e+00  0.0000000e+00\n",
      "  0.0000000e+00  0.0000000e+00  0.0000000e+00  0.0000000e+00\n",
      "  0.0000000e+00  0.0000000e+00  0.0000000e+00  0.0000000e+00\n",
      "  0.0000000e+00  1.0000000e+00  1.0000000e+00  1.0000000e+00\n",
      "  1.0000000e+00  1.0000000e+00  1.0000000e+00  1.0000000e+00\n",
      "  1.0000000e+00  1.0000000e+00  1.0000000e+00  1.0000000e+00\n",
      "  1.0000000e+00  1.0000000e+00  1.0000000e+00  1.0000000e+00\n",
      "  1.0000000e+00  1.0000000e+00  1.0000000e+00  1.0000000e+00\n",
      "  1.0000000e+00  1.0000000e+00  1.0000000e+00  1.0000000e+00\n",
      "  1.0000000e+00  1.0000000e+00  1.0000000e+00  1.0000000e+00\n",
      "  1.0000000e+00  1.0000000e+00  1.0000000e+00  1.0000000e+00\n",
      "  1.0000000e+00  1.0000000e+00  1.0000000e+00  1.0000000e+00\n",
      "  1.0000000e+00  1.0000000e+00  1.0000000e+00  1.0000000e+00\n",
      "  1.0000000e+00  1.0000000e+00  1.0000000e+00  1.0000000e+00\n",
      "  1.0000000e+00  1.0000000e+00  1.0000000e+00  1.0000000e+00\n",
      "  1.0000000e+00  1.0000000e+00  1.0000000e+00  1.0000000e+00\n",
      "  1.0000000e+00  1.0000000e+00  1.0000000e+00  1.0000000e+00\n",
      "  1.0000000e+00  1.0000000e+00  0.0000000e+00  0.0000000e+00\n",
      "  0.0000000e+00  0.0000000e+00  0.0000000e+00  0.0000000e+00\n",
      "  0.0000000e+00  0.0000000e+00  0.0000000e+00  0.0000000e+00\n",
      "  0.0000000e+00  0.0000000e+00  0.0000000e+00  0.0000000e+00\n",
      "  0.0000000e+00  0.0000000e+00  0.0000000e+00  0.0000000e+00\n",
      "  0.0000000e+00  0.0000000e+00  0.0000000e+00  0.0000000e+00\n",
      "  0.0000000e+00  0.0000000e+00  0.0000000e+00  0.0000000e+00\n",
      "  0.0000000e+00  0.0000000e+00  0.0000000e+00  0.0000000e+00\n",
      "  0.0000000e+00  0.0000000e+00  0.0000000e+00  0.0000000e+00\n",
      " -1.0000000e+00 -1.0000000e+00 -1.0000000e+00 -1.0000000e+00\n",
      " -1.0000000e+00 -1.0000000e+00 -1.0000000e+00 -1.0000000e+00\n",
      " -1.0000000e+00 -1.0000000e+00 -1.0000000e+00 -1.0000000e+00\n",
      " -1.0000000e+00 -1.0000000e+00 -1.0000000e+00 -1.0000000e+00\n",
      " -1.0000000e+00 -1.0000000e+00 -1.0000000e+00 -1.0000000e+00\n",
      "  0.0000000e+00  0.0000000e+00  0.0000000e+00  0.0000000e+00\n",
      "  0.0000000e+00  0.0000000e+00  0.0000000e+00  0.0000000e+00\n",
      "  0.0000000e+00  0.0000000e+00  0.0000000e+00  0.0000000e+00\n",
      "  0.0000000e+00  0.0000000e+00  0.0000000e+00  0.0000000e+00\n",
      "  0.0000000e+00  0.0000000e+00  0.0000000e+00  0.0000000e+00\n",
      "  0.0000000e+00  0.0000000e+00  0.0000000e+00  0.0000000e+00\n",
      "  0.0000000e+00  0.0000000e+00  0.0000000e+00  0.0000000e+00\n",
      "  0.0000000e+00  0.0000000e+00  0.0000000e+00  0.0000000e+00\n",
      "  0.0000000e+00  0.0000000e+00  5.3000002e+00  0.0000000e+00\n",
      "  0.0000000e+00  0.0000000e+00  0.0000000e+00  0.0000000e+00\n",
      "  0.0000000e+00  0.0000000e+00  0.0000000e+00  0.0000000e+00\n",
      "  1.0000000e+00  1.0000000e+00  1.0000000e+00  1.0000000e+00\n",
      "  1.0000000e+00  1.0000000e+00  1.0000000e+00  1.0000000e+00\n",
      "  1.0000000e+00  1.0000000e+00  1.0000000e+00  1.0000000e+00\n",
      "  0.0000000e+00 -1.0000000e+00  0.0000000e+00  0.0000000e+00\n",
      "  0.0000000e+00 -2.1208096e+01  2.1130220e+01  1.0000000e+00\n",
      "  0.0000000e+00  8.0640000e+03  5.0000000e+00  5.0000000e+00\n",
      "  1.0000000e+01  0.0000000e+00  0.0000000e+00  0.0000000e+00\n",
      "  1.5000000e+01  5.0000000e+00  1.0000000e+01  0.0000000e+00\n",
      "  0.0000000e+00  0.0000000e+00  1.5000000e+01]\n"
     ]
    }
   ],
   "source": [
    "print(obs.to_vect())"
   ]
  },
  {
   "cell_type": "code",
   "execution_count": 8,
   "metadata": {},
   "outputs": [],
   "source": [
    "class AttrDict(dict):\n",
    "    def __init__(self, *args, **kwargs):\n",
    "        super(AttrDict, self).__init__(*args, **kwargs)\n",
    "        self.__dict__ = self\n",
    "\n",
    "config = AttrDict(\n",
    "    latent_dim = 64,\n",
    "    action_dim = 176,\n",
    "    hidden_dim = 64,\n",
    "    output = 64,\n",
    "    input_dim = obs.size()\n",
    ")"
   ]
  },
  {
   "cell_type": "code",
   "execution_count": 9,
   "metadata": {},
   "outputs": [
    {
     "data": {
      "text/plain": [
       "467"
      ]
     },
     "execution_count": 9,
     "metadata": {},
     "output_type": "execute_result"
    }
   ],
   "source": [
    "config.input_dim"
   ]
  },
  {
   "cell_type": "code",
   "execution_count": 11,
   "metadata": {},
   "outputs": [],
   "source": [
    "e = Encoder(config)\n",
    "d = Decoder(config)\n",
    "rec = RecurrentModel(config)"
   ]
  },
  {
   "cell_type": "code",
   "execution_count": 15,
   "metadata": {},
   "outputs": [],
   "source": [
    "obs = torch.tensor(obs.to_vect())\n",
    "obs = obs.unsqueeze(0)\n",
    "latent = e(obs)"
   ]
  },
  {
   "cell_type": "code",
   "execution_count": 18,
   "metadata": {},
   "outputs": [
    {
     "data": {
      "text/plain": [
       "torch.Size([1, 467])"
      ]
     },
     "execution_count": 18,
     "metadata": {},
     "output_type": "execute_result"
    }
   ],
   "source": [
    "ori = d(latent)\n",
    "ori.shape"
   ]
  },
  {
   "cell_type": "code",
   "execution_count": 22,
   "metadata": {},
   "outputs": [
    {
     "data": {
      "text/plain": [
       "tensor([[0]])"
      ]
     },
     "execution_count": 22,
     "metadata": {},
     "output_type": "execute_result"
    }
   ],
   "source": [
    "h = torch.tensor([0]).unsqueeze(0)\n",
    "a = torch.tensor([0]).unsqueeze(0)\n"
   ]
  },
  {
   "cell_type": "code",
   "execution_count": 23,
   "metadata": {},
   "outputs": [],
   "source": [
    "z_0 = torch.randn(config.latent_dim)           # Initial latent state from encoder (randomly initialized here)\n",
    "a_0 = torch.zeros(config.action_dim)           # Initial action is set to zero\n",
    "h_0 = torch.zeros(config.hidden_dim)"
   ]
  },
  {
   "cell_type": "code",
   "execution_count": 31,
   "metadata": {},
   "outputs": [
    {
     "data": {
      "text/plain": [
       "torch.Size([64])"
      ]
     },
     "execution_count": 31,
     "metadata": {},
     "output_type": "execute_result"
    }
   ],
   "source": [
    "z = latent.squeeze(0)\n",
    "z.shape"
   ]
  },
  {
   "cell_type": "code",
   "execution_count": 32,
   "metadata": {},
   "outputs": [
    {
     "name": "stdout",
     "output_type": "stream",
     "text": [
      "Shape of h_1: torch.Size([64])\n"
     ]
    }
   ],
   "source": [
    "h_1 = rec(z, a_0, h_0)\n",
    "print(\"Shape of h_1:\", h_1.shape)  # Should be (hidden_dim,)\n"
   ]
  },
  {
   "cell_type": "code",
   "execution_count": 29,
   "metadata": {},
   "outputs": [
    {
     "data": {
      "text/plain": [
       "torch.Size([176])"
      ]
     },
     "execution_count": 29,
     "metadata": {},
     "output_type": "execute_result"
    }
   ],
   "source": [
    "a_0.shape"
   ]
  },
  {
   "cell_type": "code",
   "execution_count": 7,
   "metadata": {},
   "outputs": [],
   "source": [
    "import os\n",
    "import numpy as np\n",
    "import grid2op\n",
    "import random\n",
    "import pandas as pd\n",
    "import time"
   ]
  },
  {
   "cell_type": "code",
   "execution_count": 29,
   "metadata": {},
   "outputs": [],
   "source": [
    "def topology_greedy_action(env, substation_ids):\n",
    "    \"\"\"\n",
    "    Attempts to stabilize the grid by applying topology actions on specified substations.\n",
    "    \n",
    "    Parameters:\n",
    "    - env: Grid2Op environment instance\n",
    "    - substation_ids: List of IDs of substations to apply topology actions on\n",
    "\n",
    "    Returns:\n",
    "    - action_chosen: The best topology action found to stabilize the grid, or a \"do nothing\" action if none is found\n",
    "    \"\"\"\n",
    "    actions = []\n",
    "    obs = env.get_obs()\n",
    "    min_rho = obs.rho.max()\n",
    "    action_chosen = env.action_space({})  # start with a \"do nothing\" action\n",
    "\n",
    "    actions_1 = env.action_space.get_all_unitary_topologies_change(env.action_space, sub_id=substation_ids[0])\n",
    "    actions_2 = env.action_space.get_all_unitary_topologies_change(env.action_space, sub_id=substation_ids[1])\n",
    "    all_actions = actions_1 + actions_2\n",
    "\n",
    "    \n",
    "    # Start time tracking for performance measurement\n",
    "    start_time = time.time()\n",
    "\n",
    "    # Loop through all possible unitary topology changes\n",
    "    for action in all_actions:\n",
    "        \n",
    "        # Check if the action is legal\n",
    "        if not env._game_rules(action, env):\n",
    "            continue\n",
    "\n",
    "        # Simulate the action\n",
    "        obs_, _, done, _ = obs.simulate(action)\n",
    "        actions.append(action)\n",
    "        \n",
    "        # If the grid is not in a failed state and the action reduces congestion\n",
    "        if (not done) and (obs_.rho.max() < min_rho):\n",
    "            min_rho = obs_.rho.max()\n",
    "            action_chosen = action  # Update the best action\n",
    "\n",
    "    # Logging the best action found\n",
    "    print(\"Greedy topology action found with max rho reduced to %.5f, search duration: %.2f seconds\" %\n",
    "          (min_rho, time.time() - start_time))\n",
    "    \n",
    "    return action_chosen, len(actions)"
   ]
  },
  {
   "cell_type": "code",
   "execution_count": 33,
   "metadata": {},
   "outputs": [],
   "source": [
    "def attack_and_stabilize(env, line_to_attack):\n",
    "    \"\"\"\n",
    "    Disconnects a specified line and attempts to stabilize the grid using topology actions on connected substations.\n",
    "\n",
    "    Parameters:\n",
    "    - env: Grid2Op environment instance\n",
    "    - line_to_attack: The ID of the line to be disconnected as part of the attack\n",
    "    \"\"\"\n",
    "    # Get the origin and extremity substations of the line to attack\n",
    "    origin_substation = env.line_or_to_subid[line_to_attack]\n",
    "    extremity_substation = env.line_ex_to_subid[line_to_attack]\n",
    "\n",
    "    # Log the attacked line and connected substations\n",
    "    print(f\"Attacking line-{line_to_attack}, connected between substations {origin_substation} and {extremity_substation}\")\n",
    "\n",
    "    # Initial grid observation\n",
    "    obs = env.get_obs()\n",
    "\n",
    "    # Disconnect the specified line\n",
    "    line_status = np.zeros(obs.rho.shape, dtype=np.int32)\n",
    "    line_status[line_to_attack] = -1  # -1 indicates disconnection\n",
    "    action_disconnect = env.action_space({\"set_line_status\": line_status})\n",
    "    obs, _, done, _ = env.step(action_disconnect)\n",
    "    \n",
    "    # Check if the grid is stable after disconnecting the line\n",
    "    if done:\n",
    "        print(f\"Grid failed after disconnecting line {line_to_attack}. Unable to stabilize.\")\n",
    "        return\n",
    "\n",
    "    # Apply the greedy topology action to stabilize the grid, if possible\n",
    "    action_stabilize, l_act = topology_greedy_action(env, [origin_substation, extremity_substation])\n",
    "    obs, _, done, _ = env.step(action_stabilize)\n",
    "\n",
    "    # Check final grid state after attempting to stabilize\n",
    "    if done:\n",
    "        print(\"Grid failed after applying topology action.\")\n",
    "        print(l_act)\n",
    "        print(\"\\n ############################################################## \\n\", action_stabilize)\n",
    "    else:\n",
    "        print(\"Topology action successfully applied to reduce overload.\")\n",
    "        print(l_act)\n",
    "        print(\"\\n ############################################################## \\n\", action_stabilize)\n"
   ]
  },
  {
   "cell_type": "code",
   "execution_count": 34,
   "metadata": {},
   "outputs": [
    {
     "name": "stdout",
     "output_type": "stream",
     "text": [
      "Attacking line-9, connected between substations 68 and 74\n",
      "Greedy topology action found with max rho reduced to 0.84682, search duration: 11.21 seconds\n",
      "Topology action successfully applied to reduce overload.\n",
      "94\n",
      "\n",
      " ############################################################## \n",
      " This action will:\n",
      "\t - NOT change anything to the injections\n",
      "\t - NOT perform any redispatching action\n",
      "\t - NOT modify any storage capacity\n",
      "\t - NOT perform any curtailment\n",
      "\t - NOT force any line status\n",
      "\t - NOT switch any line status\n",
      "\t - Change the bus of the following element(s):\n",
      "\t \t - Switch bus of line (extremity) id 184 [on substation 68]\n",
      "\t - NOT force any particular bus configuration\n"
     ]
    }
   ],
   "source": [
    "env = grid2op.make(\"l2rpn_wcci_2022\")\n",
    "env.reset()\n",
    "action = attack_and_stabilize(env, line_to_attack=9)"
   ]
  },
  {
   "cell_type": "code",
   "execution_count": 32,
   "metadata": {},
   "outputs": [
    {
     "name": "stdout",
     "output_type": "stream",
     "text": [
      "None\n"
     ]
    }
   ],
   "source": [
    "print(action)"
   ]
  },
  {
   "cell_type": "code",
   "execution_count": null,
   "metadata": {},
   "outputs": [],
   "source": []
  }
 ],
 "metadata": {
  "kernelspec": {
   "display_name": "l2rpn-test",
   "language": "python",
   "name": "python3"
  },
  "language_info": {
   "codemirror_mode": {
    "name": "ipython",
    "version": 3
   },
   "file_extension": ".py",
   "mimetype": "text/x-python",
   "name": "python",
   "nbconvert_exporter": "python",
   "pygments_lexer": "ipython3",
   "version": "3.11.9"
  }
 },
 "nbformat": 4,
 "nbformat_minor": 2
}
