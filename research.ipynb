{
 "cells": [
  {
   "cell_type": "code",
   "execution_count": 2,
   "metadata": {},
   "outputs": [
    {
     "name": "stderr",
     "output_type": "stream",
     "text": [
      "c:\\Users\\Ernest\\.conda\\envs\\l2rpn-test\\lib\\site-packages\\grid2op\\Backend\\pandaPowerBackend.py:36: UserWarning: Numba cannot be loaded. You will gain possibly massive speed if installing it by \n",
      "\tc:\\Users\\Ernest\\.conda\\envs\\l2rpn-test\\python.exe -m pip install numba\n",
      "\n",
      "  warnings.warn(\n"
     ]
    }
   ],
   "source": [
    "import grid2op\n",
    "import torch\n",
    "import warnings\n",
    "from torch.utils.data import DataLoader\n",
    "from dreamer.modules.encoder import Encoder\n",
    "from dreamer.modules.decoder import Decoder\n",
    "from dreamer.modules.recurrentModel import RecurrentModel\n",
    "from dreamer.modules.dynamics import DynamicPredictor\n",
    "from collections import defaultdict\n",
    "from dreamer.modules.rewardModel import RewardPredictor\n",
    "from dreamer.modules.continueModel import ContinuousPredictor\n",
    "from dreamer.Utils.utils import Config\n",
    "from dreamer.Utils.converter import ActionConverter\n",
    "from dreamer.modules.rssm import RSSM\n",
    "from dreamer.modules.worldModel import WorldModel, Trainer\n",
    "from dreamer.Utils.dataset import GrdiDataset, load_npz_files_from_folder\n",
    "warnings.filterwarnings('ignore')"
   ]
  },
  {
   "cell_type": "code",
   "execution_count": 3,
   "metadata": {},
   "outputs": [
    {
     "data": {
      "text/plain": [
       "device(type='cuda')"
      ]
     },
     "execution_count": 3,
     "metadata": {},
     "output_type": "execute_result"
    }
   ],
   "source": [
    "d = torch.device(\"cuda\" if torch.cuda.is_available() else \"cpu\")\n",
    "d"
   ]
  },
  {
   "cell_type": "code",
   "execution_count": 4,
   "metadata": {},
   "outputs": [],
   "source": [
    "env = grid2op.make(\"l2rpn_case14_sandbox\")\n",
    "obs = env.reset()"
   ]
  },
  {
   "cell_type": "code",
   "execution_count": 5,
   "metadata": {},
   "outputs": [],
   "source": [
    "config = Config.from_yaml('config.yml')"
   ]
  },
  {
   "cell_type": "markdown",
   "metadata": {},
   "source": [
    "# Encoder test"
   ]
  },
  {
   "cell_type": "code",
   "execution_count": 13,
   "metadata": {},
   "outputs": [],
   "source": [
    "obs = torch.tensor(obs.to_vect(), device=d)\n",
    "obs = obs.unsqueeze(0)"
   ]
  },
  {
   "cell_type": "code",
   "execution_count": 14,
   "metadata": {},
   "outputs": [
    {
     "name": "stdout",
     "output_type": "stream",
     "text": [
      "input shape : torch.Size([16, 595])\n"
     ]
    },
    {
     "data": {
      "text/plain": [
       "torch.Size([16, 64])"
      ]
     },
     "execution_count": 14,
     "metadata": {},
     "output_type": "execute_result"
    }
   ],
   "source": [
    "e = Encoder(config)\n",
    "e.to(device=d)\n",
    "\n",
    "\n",
    "hidden_dim = config.hidden_dim\n",
    "obs_0 = torch.rand(16, config.input_dim, device=d)\n",
    "h_0 = torch.zeros(16, hidden_dim, device=d)\n",
    "\n",
    "\n",
    "input_to_encoder = torch.cat((obs_0, h_0), dim=-1)\n",
    "print(f\"input shape : {input_to_encoder.shape}\")\n",
    "z, dist = e(input_to_encoder)\n",
    "z.shape"
   ]
  },
  {
   "cell_type": "markdown",
   "metadata": {},
   "source": [
    "# Decoder Test"
   ]
  },
  {
   "cell_type": "code",
   "execution_count": null,
   "metadata": {},
   "outputs": [],
   "source": [
    "decoder = Decoder(config=config)\n",
    "\n",
    "re_obs = decoder(z, h_0)\n",
    "re_obs.size()"
   ]
  },
  {
   "cell_type": "markdown",
   "metadata": {},
   "source": [
    "# Recurrent Model Test"
   ]
  },
  {
   "cell_type": "code",
   "execution_count": null,
   "metadata": {},
   "outputs": [],
   "source": [
    "t_obs = torch.rand(32, config.input_dim, device=d)\n",
    "z_0 = torch.randn(32, config.latent_dim, device=d)           # Initial latent state from encoder (randomly initialized here)\n",
    "a_0 = torch.zeros(32, config.action_dim, device=d)           # Initial action is set to zero\n",
    "h_0 = torch.zeros(32, config.hidden_dim, device=d)"
   ]
  },
  {
   "cell_type": "code",
   "execution_count": null,
   "metadata": {},
   "outputs": [
    {
     "name": "stdout",
     "output_type": "stream",
     "text": [
      "Shape of h_1: torch.Size([1, 128])\n"
     ]
    }
   ],
   "source": [
    "rec = RecurrentModel(config=config)\n",
    "rec.to(device=d)\n",
    "h_1 = rec(z_0, a_0, h_0)\n",
    "print(\"Shape of h_1:\", h_1.shape)  # Should be (hidden_dim,)"
   ]
  },
  {
   "cell_type": "markdown",
   "metadata": {},
   "source": [
    "# Dynamic Model"
   ]
  },
  {
   "cell_type": "code",
   "execution_count": null,
   "metadata": {},
   "outputs": [
    {
     "data": {
      "text/plain": [
       "torch.Size([1, 64])"
      ]
     },
     "execution_count": 9,
     "metadata": {},
     "output_type": "execute_result"
    }
   ],
   "source": [
    "d_model = DynamicPredictor(config=config)\n",
    "dist, next_obs = d_model(h_1)\n",
    "next_obs.shape"
   ]
  },
  {
   "cell_type": "markdown",
   "metadata": {},
   "source": [
    "# Reward Predictor"
   ]
  },
  {
   "cell_type": "code",
   "execution_count": null,
   "metadata": {},
   "outputs": [],
   "source": [
    "e = Encoder(config)\n",
    "e.to(device=d)\n",
    "re = RewardPredictor(config)\n",
    "re.to(device=d)\n",
    "\n",
    "input_to_encoder = torch.cat([t_obs, h_0], dim=-1)\n",
    "\n",
    "z_hat, posterior = e(input_to_encoder)\n",
    "r_0 = re(z_hat, h_0)"
   ]
  },
  {
   "cell_type": "markdown",
   "metadata": {},
   "source": [
    "# Continue Predictor"
   ]
  },
  {
   "cell_type": "code",
   "execution_count": null,
   "metadata": {},
   "outputs": [],
   "source": [
    "c = ContinuousPredictor(config).to(device=d)\n",
    "flag = c(z_hat, h_0)"
   ]
  },
  {
   "cell_type": "code",
   "execution_count": null,
   "metadata": {},
   "outputs": [
    {
     "data": {
      "text/plain": [
       "torch.Size([32, 1])"
      ]
     },
     "execution_count": 14,
     "metadata": {},
     "output_type": "execute_result"
    }
   ],
   "source": [
    "flag.shape"
   ]
  },
  {
   "cell_type": "markdown",
   "metadata": {},
   "source": [
    "# RSSM Test"
   ]
  },
  {
   "cell_type": "code",
   "execution_count": null,
   "metadata": {},
   "outputs": [],
   "source": [
    "rssm = RSSM(config=config)\n",
    "rssm.to(device=d)\n",
    "z_t, z, h, dist, dynamic_dist = rssm(t_obs, h_0, a_0)      #obs, hidden_state, action"
   ]
  }
 ],
 "metadata": {
  "kernelspec": {
   "display_name": "l2rpn-test",
   "language": "python",
   "name": "python3"
  },
  "language_info": {
   "codemirror_mode": {
    "name": "ipython",
    "version": 3
   },
   "file_extension": ".py",
   "mimetype": "text/x-python",
   "name": "python",
   "nbconvert_exporter": "python",
   "pygments_lexer": "ipython3",
   "version": "3.10.13"
  }
 },
 "nbformat": 4,
 "nbformat_minor": 2
}
