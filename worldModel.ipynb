{
 "cells": [
  {
   "cell_type": "code",
   "execution_count": 7,
   "metadata": {},
   "outputs": [],
   "source": [
    "import warnings\n",
    "import torch\n",
    "from dreamer.modules.worldModel import WorldModel, Trainer\n",
    "from dreamer.Utils.utils import Config\n",
    "from torch.utils.data import DataLoader\n",
    "from dreamer.Utils.dataset import GrdiDataset, load_npz_files_from_folder, LazyGrdiBatchLoader\n",
    "warnings.filterwarnings('ignore')"
   ]
  },
  {
   "cell_type": "code",
   "execution_count": 8,
   "metadata": {},
   "outputs": [],
   "source": [
    "config = Config.from_yaml('config.yml')"
   ]
  },
  {
   "cell_type": "code",
   "execution_count": 9,
   "metadata": {},
   "outputs": [
    {
     "name": "stdout",
     "output_type": "stream",
     "text": [
      "Cuda is availabel for Training\n"
     ]
    }
   ],
   "source": [
    "wm = WorldModel(config=config)"
   ]
  },
  {
   "cell_type": "code",
   "execution_count": 10,
   "metadata": {},
   "outputs": [],
   "source": [
    "folder_path = 'dreamer\\\\data_generation\\\\data' \n",
    "observations, rewards, actions, dones, next_observations = load_npz_files_from_folder(folder_path, end=5)\n",
    "batch_size = 32  # You can adjust this based on your requirements\n",
    "dataset = GrdiDataset(observations, rewards, actions, dones, next_observations, device=wm.device)\n",
    "dataloader = DataLoader(dataset, batch_size=batch_size, shuffle=True, drop_last=True)"
   ]
  },
  {
   "cell_type": "code",
   "execution_count": null,
   "metadata": {},
   "outputs": [],
   "source": [
    "trainer = Trainer(config=config, model=wm)"
   ]
  },
  {
   "cell_type": "code",
   "execution_count": null,
   "metadata": {},
   "outputs": [
    {
     "name": "stdout",
     "output_type": "stream",
     "text": [
      "Epoch 1 - 1616 /10: Avg Total Loss = 431.8947, Avg Recon Loss = 121704084138860.8438, Avg Reward Loss = 6627396387076.9854, Avg Continue Loss = 0.6830, Avg Dynamic KL Loss = 416663727929730240.0000, Avg Representation Loss = 416663727929730240.0000\n"
     ]
    }
   ],
   "source": [
    "trainer.train(data_loader=dataloader)"
   ]
  },
  {
   "cell_type": "code",
   "execution_count": null,
   "metadata": {},
   "outputs": [],
   "source": []
  }
 ],
 "metadata": {
  "kernelspec": {
   "display_name": "l2rpn-test",
   "language": "python",
   "name": "python3"
  },
  "language_info": {
   "codemirror_mode": {
    "name": "ipython",
    "version": 3
   },
   "file_extension": ".py",
   "mimetype": "text/x-python",
   "name": "python",
   "nbconvert_exporter": "python",
   "pygments_lexer": "ipython3",
   "version": "3.10.13"
  }
 },
 "nbformat": 4,
 "nbformat_minor": 2
}
