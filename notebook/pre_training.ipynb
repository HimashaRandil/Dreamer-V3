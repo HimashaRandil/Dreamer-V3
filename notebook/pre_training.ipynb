{
 "cells": [
  {
   "cell_type": "code",
   "execution_count": 1,
   "metadata": {},
   "outputs": [],
   "source": [
    "import torch\n",
    "from torch.utils.data import DataLoader\n",
    "from dreamer.Utils.utils import Config\n",
    "from dreamer.Pre_trained_models.vae import VAE, train_vae\n",
    "from dreamer.Utils.dataset import ObservationDataset, load_observation\n",
    "\n",
    "device = torch.device('cuda' if torch.cuda.is_available() else 'cpu')"
   ]
  },
  {
   "cell_type": "code",
   "execution_count": 2,
   "metadata": {},
   "outputs": [],
   "source": [
    "config = Config.from_yaml('config.yml')"
   ]
  },
  {
   "cell_type": "code",
   "execution_count": 3,
   "metadata": {},
   "outputs": [],
   "source": [
    "folder_path = 'dreamer\\\\data_generation\\\\temp' \n",
    "observations = load_observation(folder_path, end=5)\n",
    "batch_size = 32  # You can adjust this based on your requirements\n",
    "dataset = ObservationDataset(observations, device=device)\n",
    "dataloader = DataLoader(dataset, batch_size=batch_size, shuffle=True, drop_last=True)"
   ]
  },
  {
   "cell_type": "code",
   "execution_count": 4,
   "metadata": {},
   "outputs": [
    {
     "name": "stdout",
     "output_type": "stream",
     "text": [
      "Epoch [1/10], Loss: 38718.2302\n",
      "model saved at dreamer\\Pre_trained_models\\models\n",
      "model saved at dreamer\\Pre_trained_models\\models\n",
      "New best model saved with loss: 38718.2302\n",
      "Epoch [2/10], Loss: 4769.6374\n",
      "model saved at dreamer\\Pre_trained_models\\models\n",
      "model saved at dreamer\\Pre_trained_models\\models\n",
      "New best model saved with loss: 4769.6374\n",
      "Epoch [3/10], Loss: 3374.5745\n",
      "model saved at dreamer\\Pre_trained_models\\models\n",
      "model saved at dreamer\\Pre_trained_models\\models\n",
      "New best model saved with loss: 3374.5745\n",
      "Epoch [4/10], Loss: 3306.3335\n",
      "model saved at dreamer\\Pre_trained_models\\models\n",
      "model saved at dreamer\\Pre_trained_models\\models\n",
      "New best model saved with loss: 3306.3335\n",
      "Epoch [5/10], Loss: 2901.3671\n",
      "model saved at dreamer\\Pre_trained_models\\models\n",
      "model saved at dreamer\\Pre_trained_models\\models\n",
      "New best model saved with loss: 2901.3671\n",
      "Epoch [6/10], Loss: 2402.2653\n",
      "model saved at dreamer\\Pre_trained_models\\models\n",
      "model saved at dreamer\\Pre_trained_models\\models\n",
      "New best model saved with loss: 2402.2653\n",
      "Epoch [7/10], Loss: 2349.5944\n",
      "model saved at dreamer\\Pre_trained_models\\models\n",
      "model saved at dreamer\\Pre_trained_models\\models\n",
      "New best model saved with loss: 2349.5944\n",
      "Epoch [8/10], Loss: 2240.4069\n",
      "model saved at dreamer\\Pre_trained_models\\models\n",
      "model saved at dreamer\\Pre_trained_models\\models\n",
      "New best model saved with loss: 2240.4069\n",
      "Epoch [9/10], Loss: 2153.6624\n",
      "model saved at dreamer\\Pre_trained_models\\models\n",
      "model saved at dreamer\\Pre_trained_models\\models\n",
      "New best model saved with loss: 2153.6624\n",
      "Epoch [10/10], Loss: 2107.1265\n",
      "model saved at dreamer\\Pre_trained_models\\models\n",
      "model saved at dreamer\\Pre_trained_models\\models\n",
      "New best model saved with loss: 2107.1265\n",
      "Training Complete\n"
     ]
    }
   ],
   "source": [
    "vae = VAE(config)\n",
    "train_vae(vae, dataloader, epochs=10, device=device)"
   ]
  },
  {
   "cell_type": "code",
   "execution_count": null,
   "metadata": {},
   "outputs": [],
   "source": []
  }
 ],
 "metadata": {
  "kernelspec": {
   "display_name": "l2rpn-test",
   "language": "python",
   "name": "python3"
  },
  "language_info": {
   "codemirror_mode": {
    "name": "ipython",
    "version": 3
   },
   "file_extension": ".py",
   "mimetype": "text/x-python",
   "name": "python",
   "nbconvert_exporter": "python",
   "pygments_lexer": "ipython3",
   "version": "3.10.13"
  }
 },
 "nbformat": 4,
 "nbformat_minor": 2
}
