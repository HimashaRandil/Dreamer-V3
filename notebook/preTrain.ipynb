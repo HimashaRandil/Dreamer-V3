{
 "cells": [
  {
   "cell_type": "code",
   "execution_count": 1,
   "metadata": {},
   "outputs": [
    {
     "data": {
      "text/plain": [
       "'e:\\\\github_clone\\\\Dreamer-V3'"
      ]
     },
     "execution_count": 1,
     "metadata": {},
     "output_type": "execute_result"
    }
   ],
   "source": [
    "import os\n",
    "os.chdir('../')\n",
    "os.getcwd()"
   ]
  },
  {
   "cell_type": "code",
   "execution_count": 2,
   "metadata": {},
   "outputs": [],
   "source": [
    "from dreamer.Pre_trained_models.vae import Encoder, Decoder, VAE, train_vae\n",
    "import torch\n",
    "from torch.utils.data import DataLoader\n",
    "from dreamer.Utils.dataset import load_npz_files_from_folder, GrdiDataset\n",
    "from dreamer.Utils.utils import Config\n",
    "import torch.nn.functional as F"
   ]
  },
  {
   "cell_type": "code",
   "execution_count": 3,
   "metadata": {},
   "outputs": [],
   "source": [
    "device = torch.device('cuda' if torch.cuda.is_available() else \"cpu\")\n",
    "config = Config.from_yaml('config.yml')\n",
    "vae = VAE(config=config, device=device)"
   ]
  },
  {
   "cell_type": "code",
   "execution_count": 4,
   "metadata": {},
   "outputs": [],
   "source": [
    "folder_path = \"C:\\\\Users\\\\Ernest\\\\Downloads\\\\topo_data\" \n",
    "observations, rewards, actions, dones, next_observations = load_npz_files_from_folder(folder_path, end=1)\n",
    "batch_size = 32  # You can adjust this based on your requirements\n",
    "dataset = GrdiDataset(observations, rewards, actions, dones, next_observations, device=device)\n",
    "dataloader = DataLoader(dataset, batch_size=batch_size, shuffle=True, drop_last=True)"
   ]
  },
  {
   "cell_type": "code",
   "execution_count": 5,
   "metadata": {},
   "outputs": [
    {
     "name": "stdout",
     "output_type": "stream",
     "text": [
      "Epoch [1/10], Loss: 31640196496.1386\n",
      "model saved at dreamer\\Pre_trained_models\\models\n",
      "model saved at dreamer\\Pre_trained_models\\models\n",
      "New best model saved with loss: 31640196496.1386\n",
      "Epoch [2/10], Loss: 21384.6381\n",
      "model saved at dreamer\\Pre_trained_models\\models\n",
      "model saved at dreamer\\Pre_trained_models\\models\n",
      "New best model saved with loss: 21384.6381\n",
      "Epoch [3/10], Loss: 19915.4296\n",
      "model saved at dreamer\\Pre_trained_models\\models\n",
      "model saved at dreamer\\Pre_trained_models\\models\n",
      "New best model saved with loss: 19915.4296\n",
      "Epoch [4/10], Loss: 13890.3114\n",
      "model saved at dreamer\\Pre_trained_models\\models\n",
      "model saved at dreamer\\Pre_trained_models\\models\n",
      "New best model saved with loss: 13890.3114\n",
      "Epoch [5/10], Loss: 7928.3037\n",
      "model saved at dreamer\\Pre_trained_models\\models\n",
      "model saved at dreamer\\Pre_trained_models\\models\n",
      "New best model saved with loss: 7928.3037\n",
      "Epoch [6/10], Loss: 6718.4558\n",
      "model saved at dreamer\\Pre_trained_models\\models\n",
      "model saved at dreamer\\Pre_trained_models\\models\n",
      "New best model saved with loss: 6718.4558\n",
      "Epoch [7/10], Loss: 5185.8220\n",
      "model saved at dreamer\\Pre_trained_models\\models\n",
      "model saved at dreamer\\Pre_trained_models\\models\n",
      "New best model saved with loss: 5185.8220\n",
      "Epoch [8/10], Loss: 4340.1504\n",
      "model saved at dreamer\\Pre_trained_models\\models\n",
      "model saved at dreamer\\Pre_trained_models\\models\n",
      "New best model saved with loss: 4340.1504\n",
      "Epoch [9/10], Loss: 3741.7831\n",
      "model saved at dreamer\\Pre_trained_models\\models\n",
      "model saved at dreamer\\Pre_trained_models\\models\n",
      "New best model saved with loss: 3741.7831\n",
      "Epoch [10/10], Loss: 3520.6942\n",
      "model saved at dreamer\\Pre_trained_models\\models\n",
      "model saved at dreamer\\Pre_trained_models\\models\n",
      "New best model saved with loss: 3520.6942\n",
      "Training Complete\n"
     ]
    }
   ],
   "source": [
    "train_vae(vae=vae, data_loader=dataloader, epochs=10, device=device)"
   ]
  },
  {
   "cell_type": "code",
   "execution_count": null,
   "metadata": {},
   "outputs": [],
   "source": []
  }
 ],
 "metadata": {
  "kernelspec": {
   "display_name": "l2rpn-test",
   "language": "python",
   "name": "python3"
  },
  "language_info": {
   "codemirror_mode": {
    "name": "ipython",
    "version": 3
   },
   "file_extension": ".py",
   "mimetype": "text/x-python",
   "name": "python",
   "nbconvert_exporter": "python",
   "pygments_lexer": "ipython3",
   "version": "3.10.13"
  }
 },
 "nbformat": 4,
 "nbformat_minor": 2
}
