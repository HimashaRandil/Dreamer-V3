{
 "cells": [
  {
   "cell_type": "code",
   "execution_count": 1,
   "metadata": {},
   "outputs": [
    {
     "data": {
      "text/plain": [
       "'e:\\\\github_clone\\\\Dreamer-V3'"
      ]
     },
     "execution_count": 1,
     "metadata": {},
     "output_type": "execute_result"
    }
   ],
   "source": [
    "import os\n",
    "os.chdir('../')\n",
    "os.getcwd()"
   ]
  },
  {
   "cell_type": "code",
   "execution_count": 2,
   "metadata": {},
   "outputs": [],
   "source": [
    "from dreamer.Pre_trained_models.vae import Encoder, Decoder, VAE, train_vae\n",
    "import torch\n",
    "from torch.utils.data import DataLoader\n",
    "from dreamer.Utils.dataset import load_npz_files_from_folder, GrdiDataset\n",
    "from dreamer.Utils.utils import Config\n",
    "import torch.nn.functional as F"
   ]
  },
  {
   "cell_type": "code",
   "execution_count": 3,
   "metadata": {},
   "outputs": [],
   "source": [
    "device = torch.device('cuda' if torch.cuda.is_available() else \"cpu\")\n",
    "config = Config.from_yaml('config.yml')\n",
    "vae = VAE(config=config, device=device)"
   ]
  },
  {
   "cell_type": "code",
   "execution_count": 4,
   "metadata": {},
   "outputs": [],
   "source": [
    "folder_path = \"C:\\\\Users\\\\Ernest\\\\Downloads\\\\topo_data\" \n",
    "observations, rewards, actions, dones, next_observations = load_npz_files_from_folder(folder_path, end=1)\n",
    "batch_size = 32  # You can adjust this based on your requirements\n",
    "dataset = GrdiDataset(observations, rewards, actions, dones, next_observations, device=device)\n",
    "dataloader = DataLoader(dataset, batch_size=batch_size, shuffle=True, drop_last=True)"
   ]
  },
  {
   "cell_type": "code",
   "execution_count": 6,
   "metadata": {},
   "outputs": [
    {
     "name": "stdout",
     "output_type": "stream",
     "text": [
      "Epoch [1/10], Loss: 630370590710847.3750\n",
      "model saved at dreamer\\Pre_trained_models\\models\n",
      "model saved at dreamer\\Pre_trained_models\\models\n",
      "New best model saved with loss: 630370590710847.3750\n",
      "Epoch [2/10], Loss: 223967.8601\n",
      "model saved at dreamer\\Pre_trained_models\\models\n",
      "model saved at dreamer\\Pre_trained_models\\models\n",
      "New best model saved with loss: 223967.8601\n",
      "Epoch [3/10], Loss: 223938.7554\n",
      "model saved at dreamer\\Pre_trained_models\\models\n",
      "model saved at dreamer\\Pre_trained_models\\models\n",
      "New best model saved with loss: 223938.7554\n",
      "Epoch [4/10], Loss: 223915.8342\n",
      "model saved at dreamer\\Pre_trained_models\\models\n",
      "model saved at dreamer\\Pre_trained_models\\models\n",
      "New best model saved with loss: 223915.8342\n",
      "Epoch [5/10], Loss: 223911.3636\n",
      "model saved at dreamer\\Pre_trained_models\\models\n",
      "model saved at dreamer\\Pre_trained_models\\models\n",
      "New best model saved with loss: 223911.3636\n",
      "Epoch [6/10], Loss: 223903.9700\n",
      "model saved at dreamer\\Pre_trained_models\\models\n",
      "model saved at dreamer\\Pre_trained_models\\models\n",
      "New best model saved with loss: 223903.9700\n",
      "Epoch [7/10], Loss: 223893.9498\n",
      "model saved at dreamer\\Pre_trained_models\\models\n",
      "model saved at dreamer\\Pre_trained_models\\models\n",
      "New best model saved with loss: 223893.9498\n",
      "Epoch [8/10], Loss: 223894.9435\n",
      "Epoch [9/10], Loss: 223891.6492\n",
      "model saved at dreamer\\Pre_trained_models\\models\n",
      "model saved at dreamer\\Pre_trained_models\\models\n",
      "New best model saved with loss: 223891.6492\n",
      "Epoch [10/10], Loss: 223889.4968\n",
      "model saved at dreamer\\Pre_trained_models\\models\n",
      "model saved at dreamer\\Pre_trained_models\\models\n",
      "New best model saved with loss: 223889.4968\n",
      "Training Complete\n"
     ]
    }
   ],
   "source": [
    "train_vae(vae=vae, data_loader=dataloader, epochs=10, device=device)"
   ]
  },
  {
   "cell_type": "code",
   "execution_count": null,
   "metadata": {},
   "outputs": [],
   "source": []
  }
 ],
 "metadata": {
  "kernelspec": {
   "display_name": "l2rpn-test",
   "language": "python",
   "name": "python3"
  },
  "language_info": {
   "codemirror_mode": {
    "name": "ipython",
    "version": 3
   },
   "file_extension": ".py",
   "mimetype": "text/x-python",
   "name": "python",
   "nbconvert_exporter": "python",
   "pygments_lexer": "ipython3",
   "version": "3.10.13"
  }
 },
 "nbformat": 4,
 "nbformat_minor": 2
}
