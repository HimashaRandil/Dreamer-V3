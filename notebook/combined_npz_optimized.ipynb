{
 "cells": [
  {
   "cell_type": "code",
   "execution_count": 1,
   "metadata": {},
   "outputs": [],
   "source": [
    "import numpy as np\n",
    "import os\n",
    "from glob import glob\n",
    "from tqdm import tqdm\n",
    "import psutil"
   ]
  },
  {
   "cell_type": "code",
   "execution_count": 2,
   "metadata": {},
   "outputs": [],
   "source": [
    "\n",
    "def check_memory_usage(data_size):\n",
    "    \"\"\"Check if there's enough memory to process the data.\"\"\"\n",
    "    available_memory = psutil.virtual_memory().available\n",
    "    return available_memory > data_size * 2  # Factor of 2 for safety margin\n"
   ]
  },
  {
   "cell_type": "code",
   "execution_count": 3,
   "metadata": {},
   "outputs": [],
   "source": [
    "\n",
    "def get_total_size(file_list):\n",
    "    \"\"\"Calculate total size of all arrays in the first file to estimate memory requirements.\"\"\"\n",
    "    with np.load(file_list[0], allow_pickle=True) as data:\n",
    "        return sum(arr.nbytes for arr in data.values())\n",
    "\n"
   ]
  },
  {
   "cell_type": "code",
   "execution_count": 4,
   "metadata": {},
   "outputs": [],
   "source": [
    "def merge_npz_files_batch(file_list, output_file, batch_size=5):\n",
    "    \"\"\"\n",
    "    Merge multiple .npz files using a batch approach to balance speed and memory usage.\n",
    "    \n",
    "    Parameters:\n",
    "    - file_list: List of paths to .npz files\n",
    "    - output_file: Path to save the final merged .npz file\n",
    "    - batch_size: Number of files to process at once\n",
    "    \"\"\"\n",
    "    if not file_list:\n",
    "        raise ValueError(\"No files provided to merge\")\n",
    "    \n",
    "    # Estimate memory requirements\n",
    "    single_file_size = get_total_size(file_list[0])\n",
    "    estimated_batch_size = single_file_size * batch_size\n",
    "    \n",
    "    # Adjust batch size based on available memory\n",
    "    while not check_memory_usage(estimated_batch_size) and batch_size > 1:\n",
    "        batch_size = max(1, batch_size - 1)\n",
    "        estimated_batch_size = single_file_size * batch_size\n",
    "    \n",
    "    print(f\"Using batch size of {batch_size} files\")\n",
    "    \n",
    "    # Initialize with first file to get the structure\n",
    "    with np.load(file_list[0], allow_pickle=True) as first_file:\n",
    "        merged_data = {key: first_file[key] for key in first_file.files}\n",
    "    \n",
    "    # Process remaining files in batches\n",
    "    remaining_files = file_list[1:]\n",
    "    for i in tqdm(range(0, len(remaining_files), batch_size)):\n",
    "        batch_files = remaining_files[i:i + batch_size]\n",
    "        batch_data = []\n",
    "        \n",
    "        # Load batch into memory\n",
    "        for file in batch_files:\n",
    "            with np.load(file, allow_pickle=True) as data:\n",
    "                batch_data.append({key: data[key] for key in data.files})\n",
    "        \n",
    "        # Merge batch with existing data\n",
    "        for key in merged_data:\n",
    "            arrays_to_concat = [merged_data[key]] + [data[key] for data in batch_data]\n",
    "            merged_data[key] = np.concatenate(arrays_to_concat, axis=0)\n",
    "        \n",
    "        # Clear batch data from memory\n",
    "        batch_data.clear()\n",
    "    \n",
    "    # Save final result\n",
    "    print(f\"Saving merged data to {output_file}\")\n",
    "    np.savez_compressed(output_file, **merged_data)\n",
    "    print(\"Merge complete!\")\n",
    "\n"
   ]
  },
  {
   "cell_type": "code",
   "execution_count": 5,
   "metadata": {},
   "outputs": [],
   "source": [
    "# Example usage\n",
    "def merge_files(input_path, output_path):\n",
    "    \"\"\"\n",
    "    Wrapper function to handle the merging process with error handling.\n",
    "    \n",
    "    Parameters:\n",
    "    - input_path: Path pattern to find .npz files\n",
    "    - output_path: Path to save the merged file\n",
    "    \"\"\"\n",
    "    try:\n",
    "        file_list = sorted(glob(input_path))\n",
    "        if not file_list:\n",
    "            raise ValueError(f\"No .npz files found matching pattern: {input_path}\")\n",
    "        \n",
    "        print(f\"Found {len(file_list)} files to merge\")\n",
    "        merge_npz_files_batch(file_list, output_path)\n",
    "        \n",
    "    except Exception as e:\n",
    "        print(f\"Error during merge: {str(e)}\")\n",
    "        raise"
   ]
  },
  {
   "cell_type": "code",
   "execution_count": 8,
   "metadata": {},
   "outputs": [],
   "source": [
    "input_path = \"E:/L2RPN/Dreamer_V3_Implimentation/data-20241123T131314Z-001/data/*.npz\" # Adjust path as needed\n",
    "output_path = 'E:/L2RPN/Dreamer_V3_Implimentation/merged_data.npz'"
   ]
  },
  {
   "cell_type": "code",
   "execution_count": 9,
   "metadata": {},
   "outputs": [
    {
     "name": "stdout",
     "output_type": "stream",
     "text": [
      "Found 683 files to merge\n",
      "Error during merge: [Errno 2] No such file or directory: 'E'\n"
     ]
    },
    {
     "ename": "FileNotFoundError",
     "evalue": "[Errno 2] No such file or directory: 'E'",
     "output_type": "error",
     "traceback": [
      "\u001b[1;31m---------------------------------------------------------------------------\u001b[0m",
      "\u001b[1;31mFileNotFoundError\u001b[0m                         Traceback (most recent call last)",
      "Cell \u001b[1;32mIn[9], line 1\u001b[0m\n\u001b[1;32m----> 1\u001b[0m merge_files(input_path,output_path)\n",
      "Cell \u001b[1;32mIn[5], line 16\u001b[0m, in \u001b[0;36mmerge_files\u001b[1;34m(input_path, output_path)\u001b[0m\n\u001b[0;32m     13\u001b[0m         \u001b[38;5;28;01mraise\u001b[39;00m \u001b[38;5;167;01mValueError\u001b[39;00m(\u001b[38;5;124mf\u001b[39m\u001b[38;5;124m\"\u001b[39m\u001b[38;5;124mNo .npz files found matching pattern: \u001b[39m\u001b[38;5;132;01m{\u001b[39;00minput_path\u001b[38;5;132;01m}\u001b[39;00m\u001b[38;5;124m\"\u001b[39m)\n\u001b[0;32m     15\u001b[0m     \u001b[38;5;28mprint\u001b[39m(\u001b[38;5;124mf\u001b[39m\u001b[38;5;124m\"\u001b[39m\u001b[38;5;124mFound \u001b[39m\u001b[38;5;132;01m{\u001b[39;00m\u001b[38;5;28mlen\u001b[39m(file_list)\u001b[38;5;132;01m}\u001b[39;00m\u001b[38;5;124m files to merge\u001b[39m\u001b[38;5;124m\"\u001b[39m)\n\u001b[1;32m---> 16\u001b[0m     merge_npz_files_batch(file_list, output_path)\n\u001b[0;32m     18\u001b[0m \u001b[38;5;28;01mexcept\u001b[39;00m \u001b[38;5;167;01mException\u001b[39;00m \u001b[38;5;28;01mas\u001b[39;00m e:\n\u001b[0;32m     19\u001b[0m     \u001b[38;5;28mprint\u001b[39m(\u001b[38;5;124mf\u001b[39m\u001b[38;5;124m\"\u001b[39m\u001b[38;5;124mError during merge: \u001b[39m\u001b[38;5;132;01m{\u001b[39;00m\u001b[38;5;28mstr\u001b[39m(e)\u001b[38;5;132;01m}\u001b[39;00m\u001b[38;5;124m\"\u001b[39m)\n",
      "Cell \u001b[1;32mIn[4], line 14\u001b[0m, in \u001b[0;36mmerge_npz_files_batch\u001b[1;34m(file_list, output_file, batch_size)\u001b[0m\n\u001b[0;32m     11\u001b[0m     \u001b[38;5;28;01mraise\u001b[39;00m \u001b[38;5;167;01mValueError\u001b[39;00m(\u001b[38;5;124m\"\u001b[39m\u001b[38;5;124mNo files provided to merge\u001b[39m\u001b[38;5;124m\"\u001b[39m)\n\u001b[0;32m     13\u001b[0m \u001b[38;5;66;03m# Estimate memory requirements\u001b[39;00m\n\u001b[1;32m---> 14\u001b[0m single_file_size \u001b[38;5;241m=\u001b[39m get_total_size(file_list[\u001b[38;5;241m0\u001b[39m])\n\u001b[0;32m     15\u001b[0m estimated_batch_size \u001b[38;5;241m=\u001b[39m single_file_size \u001b[38;5;241m*\u001b[39m batch_size\n\u001b[0;32m     17\u001b[0m \u001b[38;5;66;03m# Adjust batch size based on available memory\u001b[39;00m\n",
      "Cell \u001b[1;32mIn[3], line 3\u001b[0m, in \u001b[0;36mget_total_size\u001b[1;34m(file_list)\u001b[0m\n\u001b[0;32m      1\u001b[0m \u001b[38;5;28;01mdef\u001b[39;00m \u001b[38;5;21mget_total_size\u001b[39m(file_list):\n\u001b[0;32m      2\u001b[0m \u001b[38;5;250m    \u001b[39m\u001b[38;5;124;03m\"\"\"Calculate total size of all arrays in the first file to estimate memory requirements.\"\"\"\u001b[39;00m\n\u001b[1;32m----> 3\u001b[0m     \u001b[38;5;28;01mwith\u001b[39;00m np\u001b[38;5;241m.\u001b[39mload(file_list[\u001b[38;5;241m0\u001b[39m], allow_pickle\u001b[38;5;241m=\u001b[39m\u001b[38;5;28;01mTrue\u001b[39;00m) \u001b[38;5;28;01mas\u001b[39;00m data:\n\u001b[0;32m      4\u001b[0m         \u001b[38;5;28;01mreturn\u001b[39;00m \u001b[38;5;28msum\u001b[39m(arr\u001b[38;5;241m.\u001b[39mnbytes \u001b[38;5;28;01mfor\u001b[39;00m arr \u001b[38;5;129;01min\u001b[39;00m data\u001b[38;5;241m.\u001b[39mvalues())\n",
      "File \u001b[1;32mc:\\Users\\hrand\\anaconda3\\envs\\MARL2023paper_env\\Lib\\site-packages\\numpy\\lib\\npyio.py:427\u001b[0m, in \u001b[0;36mload\u001b[1;34m(file, mmap_mode, allow_pickle, fix_imports, encoding, max_header_size)\u001b[0m\n\u001b[0;32m    425\u001b[0m     own_fid \u001b[38;5;241m=\u001b[39m \u001b[38;5;28;01mFalse\u001b[39;00m\n\u001b[0;32m    426\u001b[0m \u001b[38;5;28;01melse\u001b[39;00m:\n\u001b[1;32m--> 427\u001b[0m     fid \u001b[38;5;241m=\u001b[39m stack\u001b[38;5;241m.\u001b[39menter_context(\u001b[38;5;28mopen\u001b[39m(os_fspath(file), \u001b[38;5;124m\"\u001b[39m\u001b[38;5;124mrb\u001b[39m\u001b[38;5;124m\"\u001b[39m))\n\u001b[0;32m    428\u001b[0m     own_fid \u001b[38;5;241m=\u001b[39m \u001b[38;5;28;01mTrue\u001b[39;00m\n\u001b[0;32m    430\u001b[0m \u001b[38;5;66;03m# Code to distinguish from NumPy binary files and pickles.\u001b[39;00m\n",
      "\u001b[1;31mFileNotFoundError\u001b[0m: [Errno 2] No such file or directory: 'E'"
     ]
    }
   ],
   "source": [
    "merge_files(input_path,output_path)"
   ]
  },
  {
   "cell_type": "code",
   "execution_count": null,
   "metadata": {},
   "outputs": [],
   "source": []
  }
 ],
 "metadata": {
  "kernelspec": {
   "display_name": "MARL2023paper_env",
   "language": "python",
   "name": "python3"
  },
  "language_info": {
   "codemirror_mode": {
    "name": "ipython",
    "version": 3
   },
   "file_extension": ".py",
   "mimetype": "text/x-python",
   "name": "python",
   "nbconvert_exporter": "python",
   "pygments_lexer": "ipython3",
   "version": "3.11.9"
  }
 },
 "nbformat": 4,
 "nbformat_minor": 2
}
