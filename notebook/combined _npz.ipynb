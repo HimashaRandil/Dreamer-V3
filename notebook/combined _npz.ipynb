{
 "cells": [
  {
   "cell_type": "code",
   "execution_count": 1,
   "metadata": {},
   "outputs": [],
   "source": [
    "import os\n",
    "import numpy as np\n",
    "from glob import glob  \n"
   ]
  },
  {
   "cell_type": "code",
   "execution_count": 2,
   "metadata": {},
   "outputs": [],
   "source": [
    "import os\n",
    "import numpy as np\n",
    "from glob import glob\n",
    "import shutil\n",
    "\n",
    "def merge_npz_files_incremental(file_list, output_file, temp_file='temp_merge.npz'):\n",
    "    \"\"\"\n",
    "    Incrementally merge multiple .npz files by concatenating data under each key.\n",
    "    Saves intermediate results to manage memory usage.\n",
    "    \"\"\"\n",
    "    # Initialize empty dictionary for the first iteration\n",
    "    merged_data = None\n",
    "    \n",
    "    # Create output directory if it doesn't exist\n",
    "    os.makedirs(os.path.dirname(os.path.abspath(output_file)), exist_ok=True)\n",
    "    \n",
    "    # Generate a unique temporary filename\n",
    "    temp_file = f'temp_merge_{np.random.randint(10000)}.npz'\n",
    "    \n",
    "    try:\n",
    "        for idx, file in enumerate(file_list):\n",
    "            print(f\"Processing file {idx + 1}/{len(file_list)}: {file}\")\n",
    "            with np.load(file, allow_pickle=True) as data:\n",
    "                # If it's the first file, initialize merged_data\n",
    "                if merged_data is None:\n",
    "                    merged_data = {key: data[key] for key in data.files}\n",
    "                else:\n",
    "                    # Load temp file with current merged data\n",
    "                    with np.load(temp_file, allow_pickle=True) as temp_data:\n",
    "                        merged_data = {key: np.concatenate((temp_data[key], data[key]), axis=0) for key in data.files}\n",
    "            # Save the current merged data to the temporary file\n",
    "            np.savez(temp_file, **merged_data)\n",
    "            print(f\"Intermediate merge saved to {temp_file}\")\n",
    "        \n",
    "        # After processing all files, save the final merged result\n",
    "        shutil.copy2(temp_file, output_file)\n",
    "        print(f\"Final merged data saved to {output_file}\")\n",
    "    \n",
    "    finally:\n",
    "        # Clean up temporary file\n",
    "        if os.path.exists(temp_file):\n",
    "            try:\n",
    "                os.remove(temp_file)\n",
    "            except:\n",
    "                print(f\"Warning: Could not remove temporary file {temp_file}\")"
   ]
  },
  {
   "cell_type": "code",
   "execution_count": 3,
   "metadata": {},
   "outputs": [],
   "source": [
    "file_list = glob(\"E:/L2RPN/Dreamer_V3_Implimentation/data-20241123T131314Z-001/data/*\")  # Adjust path as needed\n",
    "output_file = 'E:/L2RPN/Dreamer_V3_Implimentation/merged_data.npz'"
   ]
  },
  {
   "cell_type": "code",
   "execution_count": 6,
   "metadata": {},
   "outputs": [
    {
     "name": "stdout",
     "output_type": "stream",
     "text": [
      "Processing file 1/19: E:/L2RPN/Dreamer_V3_Implimentation/data-20241123T131314Z-001/data\\episode_155_data.npz\n",
      "Intermediate merge saved to temp_merge_9870.npz\n",
      "Processing file 2/19: E:/L2RPN/Dreamer_V3_Implimentation/data-20241123T131314Z-001/data\\episode_156_data.npz\n",
      "Intermediate merge saved to temp_merge_9870.npz\n",
      "Processing file 3/19: E:/L2RPN/Dreamer_V3_Implimentation/data-20241123T131314Z-001/data\\episode_157_data.npz\n",
      "Intermediate merge saved to temp_merge_9870.npz\n",
      "Processing file 4/19: E:/L2RPN/Dreamer_V3_Implimentation/data-20241123T131314Z-001/data\\episode_158_data.npz\n",
      "Intermediate merge saved to temp_merge_9870.npz\n",
      "Processing file 5/19: E:/L2RPN/Dreamer_V3_Implimentation/data-20241123T131314Z-001/data\\episode_159_data.npz\n",
      "Intermediate merge saved to temp_merge_9870.npz\n",
      "Processing file 6/19: E:/L2RPN/Dreamer_V3_Implimentation/data-20241123T131314Z-001/data\\episode_15_data.npz\n",
      "Intermediate merge saved to temp_merge_9870.npz\n",
      "Processing file 7/19: E:/L2RPN/Dreamer_V3_Implimentation/data-20241123T131314Z-001/data\\episode_160_data.npz\n",
      "Intermediate merge saved to temp_merge_9870.npz\n",
      "Processing file 8/19: E:/L2RPN/Dreamer_V3_Implimentation/data-20241123T131314Z-001/data\\episode_161_data.npz\n",
      "Intermediate merge saved to temp_merge_9870.npz\n",
      "Processing file 9/19: E:/L2RPN/Dreamer_V3_Implimentation/data-20241123T131314Z-001/data\\episode_162_data.npz\n",
      "Intermediate merge saved to temp_merge_9870.npz\n",
      "Processing file 10/19: E:/L2RPN/Dreamer_V3_Implimentation/data-20241123T131314Z-001/data\\episode_163_data.npz\n",
      "Intermediate merge saved to temp_merge_9870.npz\n",
      "Processing file 11/19: E:/L2RPN/Dreamer_V3_Implimentation/data-20241123T131314Z-001/data\\episode_164_data.npz\n",
      "Intermediate merge saved to temp_merge_9870.npz\n",
      "Processing file 12/19: E:/L2RPN/Dreamer_V3_Implimentation/data-20241123T131314Z-001/data\\episode_165_data.npz\n",
      "Intermediate merge saved to temp_merge_9870.npz\n",
      "Processing file 13/19: E:/L2RPN/Dreamer_V3_Implimentation/data-20241123T131314Z-001/data\\episode_166_data.npz\n",
      "Intermediate merge saved to temp_merge_9870.npz\n",
      "Processing file 14/19: E:/L2RPN/Dreamer_V3_Implimentation/data-20241123T131314Z-001/data\\episode_167_data.npz\n",
      "Intermediate merge saved to temp_merge_9870.npz\n",
      "Processing file 15/19: E:/L2RPN/Dreamer_V3_Implimentation/data-20241123T131314Z-001/data\\episode_168_data.npz\n",
      "Intermediate merge saved to temp_merge_9870.npz\n",
      "Processing file 16/19: E:/L2RPN/Dreamer_V3_Implimentation/data-20241123T131314Z-001/data\\episode_169_data.npz\n",
      "Intermediate merge saved to temp_merge_9870.npz\n",
      "Processing file 17/19: E:/L2RPN/Dreamer_V3_Implimentation/data-20241123T131314Z-001/data\\episode_16_data.npz\n",
      "Intermediate merge saved to temp_merge_9870.npz\n",
      "Processing file 18/19: E:/L2RPN/Dreamer_V3_Implimentation/data-20241123T131314Z-001/data\\episode_170_data.npz\n",
      "Intermediate merge saved to temp_merge_9870.npz\n",
      "Processing file 19/19: E:/L2RPN/Dreamer_V3_Implimentation/data-20241123T131314Z-001/data\\episode_171_data.npz\n",
      "Intermediate merge saved to temp_merge_9870.npz\n",
      "Final merged data saved to E:/L2RPN/Dreamer_V3_Implimentation/merged_data.npz\n"
     ]
    }
   ],
   "source": [
    "  # Output file path\n",
    "merge_npz_files_incremental(file_list[61:80], output_file) # 0:20 is range"
   ]
  },
  {
   "cell_type": "code",
   "execution_count": null,
   "metadata": {},
   "outputs": [],
   "source": []
  }
 ],
 "metadata": {
  "kernelspec": {
   "display_name": "MARL2023paper_env",
   "language": "python",
   "name": "python3"
  },
  "language_info": {
   "codemirror_mode": {
    "name": "ipython",
    "version": 3
   },
   "file_extension": ".py",
   "mimetype": "text/x-python",
   "name": "python",
   "nbconvert_exporter": "python",
   "pygments_lexer": "ipython3",
   "version": "3.11.9"
  }
 },
 "nbformat": 4,
 "nbformat_minor": 2
}
